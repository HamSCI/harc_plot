{
 "cells": [
  {
   "cell_type": "code",
   "execution_count": null,
   "metadata": {},
   "outputs": [],
   "source": [
    "%matplotlib inline\n",
    "import numpy as np\n",
    "import matplotlib as mpl\n",
    "from matplotlib import pyplot as plt\n",
    "import datetime\n",
    "import pandas as pd\n",
    "\n",
    "import astropy.units as u\n",
    "from astropy.time import Time\n",
    "from astropy.coordinates import get_sun, EarthLocation, AltAz\n",
    "\n",
    "from library import gen_lib as gl"
   ]
  },
  {
   "cell_type": "code",
   "execution_count": null,
   "metadata": {},
   "outputs": [],
   "source": [
    "class SolarZenith(object):\n",
    "    def __init__(self,sTime,eTime,lon=-100,lat=40,tstep='1M'):\n",
    "        dt = pd.Timedelta(tstep)\n",
    "        time_vec = [sTime]\n",
    "        while time_vec[-1] < eTime:\n",
    "            time_vec.append(time_vec[-1]+dt)\n",
    "\n",
    "        self.time_vec = time_vec\n",
    "        self.times_aa = Time(time_vec)\n",
    "        self.df       = pd.DataFrame(index=time_vec)\n",
    "        self.lat      = lat\n",
    "        self.lon      = lon\n",
    "    \n",
    "    def calc_astropy(self,alt_km=0):\n",
    "        loc           = EarthLocation(lon=self.lon*u.deg,lat=self.lat*u.deg,height=alt_km*1e3*u.m)\n",
    "        altaz         = AltAz(location=loc,obstime=self.times_aa)\n",
    "\n",
    "        sun           = get_sun(self.times_aa)\n",
    "        zen           = sun.transform_to(altaz).zen\n",
    "        \n",
    "        key           = 'AstroPy {!s} km'.format(alt_km)\n",
    "        self.df[key]  = np.array(zen)\n",
    "    \n",
    "    def calc_geopack(self):\n",
    "        azs, els      = gl.sunAzEl(self.time_vec,self.lat,self.lon)\n",
    "        key           = 'Geopack 0 km'\n",
    "        self.df[key]  = els\n",
    "    \n",
    "    def plot(self):\n",
    "        fig      = plt.figure(figsize=(15,10))\n",
    "        ax       = fig.add_subplot(1,1,1)\n",
    "        self.df.plot(ax=ax)\n",
    "        title = '({:0.1f}$\\degree$ N, {:0.1f}$\\degree$ E)'.format(self.lat,self.lon)\n",
    "        ax.set_title(title)\n",
    "        ax.grid()\n",
    "        plt.show()\n"
   ]
  },
  {
   "cell_type": "code",
   "execution_count": null,
   "metadata": {
    "scrolled": false
   },
   "outputs": [],
   "source": [
    "sTime    = datetime.datetime(2017,9,6)\n",
    "eTime    = datetime.datetime(2017,9,7)\n",
    "sz       = SolarZenith(sTime,eTime)\n",
    "sz.calc_geopack()\n",
    "sz.calc_astropy(0)\n",
    "sz.calc_astropy(300)\n",
    "sz.plot()"
   ]
  },
  {
   "cell_type": "code",
   "execution_count": null,
   "metadata": {},
   "outputs": [],
   "source": []
  }
 ],
 "metadata": {
  "kernelspec": {
   "display_name": "Python 3",
   "language": "python",
   "name": "python3"
  },
  "language_info": {
   "codemirror_mode": {
    "name": "ipython",
    "version": 3
   },
   "file_extension": ".py",
   "mimetype": "text/x-python",
   "name": "python",
   "nbconvert_exporter": "python",
   "pygments_lexer": "ipython3",
   "version": "3.5.2"
  }
 },
 "nbformat": 4,
 "nbformat_minor": 2
}
